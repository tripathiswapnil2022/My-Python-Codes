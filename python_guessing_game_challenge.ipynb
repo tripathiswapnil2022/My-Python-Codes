{
  "nbformat": 4,
  "nbformat_minor": 0,
  "metadata": {
    "colab": {
      "provenance": [],
      "collapsed_sections": []
    },
    "kernelspec": {
      "name": "python3",
      "display_name": "Python 3"
    },
    "language_info": {
      "name": "python"
    }
  },
  "cells": [
    {
      "cell_type": "markdown",
      "source": [
        "# **Guessing Game Challenge - Solution**\n",
        "Let's use while loops to create a guessing game.\n",
        "\n",
        "**The Challenge:**\n",
        "\n",
        "Write a program that picks a random integer from 1 to 100, and has players guess the number. The rules are:\n",
        "\n",
        "* *If a player's guess is less than 1 or greater than 100, say \"OUT OF BOUNDS\"*\n",
        "* *On a player's first turn, if their guess is within 10 of the number, return \"WARM!\"*\n",
        "\n",
        "* *further than 10 away from the number, return \"COLD!\"*\n",
        "\n",
        "* *On  all subsequent turns, if a guess is closer to the number than the previous guess return \"WARMER!\"*\n",
        "\n",
        "* *farther from the number than the previous guess, return \"COLDER!\"*\n",
        "\n",
        "* *When the player's guess equals the number, tell them they've guessed correctly and how many guesses it took!*\n",
        "\n",
        "First, pick a random integer from 1 to 100 using the random module and assign it to a variable.\n",
        "\n",
        "Note: random.randint(a,b) returns a random integer in range [a, b], including both end points."
      ],
      "metadata": {
        "id": "q3DpUrM1TVsK"
      }
    },
    {
      "cell_type": "code",
      "source": [
        "import random\n",
        "\n",
        "num = random.randint(1,100)"
      ],
      "metadata": {
        "id": "KkTBVSvbJ6vD"
      },
      "execution_count": null,
      "outputs": []
    },
    {
      "cell_type": "code",
      "source": [],
      "metadata": {
        "id": "h5hRoBlLTNJ1"
      },
      "execution_count": null,
      "outputs": []
    },
    {
      "cell_type": "code",
      "source": [
        "num"
      ],
      "metadata": {
        "colab": {
          "base_uri": "https://localhost:8080/"
        },
        "id": "yPon58esJ-ws",
        "outputId": "cb6b0829-58ec-4944-e1ef-4ef9c5ec5879"
      },
      "execution_count": null,
      "outputs": [
        {
          "output_type": "execute_result",
          "data": {
            "text/plain": [
              "46"
            ]
          },
          "metadata": {},
          "execution_count": 12
        }
      ]
    },
    {
      "cell_type": "code",
      "execution_count": null,
      "metadata": {
        "id": "uNkm4JEjJ36G"
      },
      "outputs": [],
      "source": [
        "guesses = [0]\n"
      ]
    },
    {
      "cell_type": "markdown",
      "source": [
        " **Some hints:**\n",
        "\n",
        "* it may help to sketch out all possible combinations on paper first!\n",
        "\n",
        "\n",
        "* you can use the abs() function to find the positive difference between two numbers\n",
        "* if you append all new guesses to the list, then the previous guess is given as guesses[-2]"
      ],
      "metadata": {
        "id": "euUImE8rU0iU"
      }
    },
    {
      "cell_type": "code",
      "source": [
        "while True:\n",
        "\n",
        "    # we can copy the code from above to take an input\n",
        "    guess = int(input(\"I'm thinking of a number between 1 and 100.\\n  What is your guess? \"))\n",
        "    \n",
        "    if guess < 1 or guess > 100:\n",
        "        print('OUT OF BOUNDS! Please try again: ')\n",
        "        continue\n",
        "    \n",
        "    # here we compare the player's guess to our number\n",
        "    if guess == num:\n",
        "        print(f'CONGRATULATIONS, YOU GUESSED IT IN ONLY {len(guesses)} GUESSES!!')\n",
        "        break\n",
        "        \n",
        "    # if guess is incorrect, add guess to the list\n",
        "    guesses.append(guess)\n",
        "    \n",
        "    # when testing the first guess, guesses[-2]==0, which evaluates to False\n",
        "    # and brings us down to the second section\n",
        "    \n",
        "    if guesses[-2]:  \n",
        "        if abs(num-guess) < abs(num-guesses[-2]):\n",
        "            print('WARMER!')\n",
        "        else:\n",
        "            print('COLDER!')\n",
        "   \n",
        "    else:\n",
        "        if abs(num-guess) <= 10:\n",
        "            print('WARM!')\n",
        "        else:\n",
        "            print('COLD!')"
      ],
      "metadata": {
        "colab": {
          "base_uri": "https://localhost:8080/"
        },
        "id": "GSEPu0BGKLeQ",
        "outputId": "133be5e9-9db8-4421-b519-345412db0038"
      },
      "execution_count": null,
      "outputs": [
        {
          "output_type": "stream",
          "name": "stdout",
          "text": [
            "I'm thinking of a number between 1 and 100.\n",
            "  What is your guess? 76\n",
            "COLD!\n",
            "I'm thinking of a number between 1 and 100.\n",
            "  What is your guess? 54\n",
            "WARMER!\n",
            "I'm thinking of a number between 1 and 100.\n",
            "  What is your guess? 46\n",
            "CONGRATULATIONS, YOU GUESSED IT IN ONLY 3 GUESSES!!\n"
          ]
        }
      ]
    },
    {
      "cell_type": "code",
      "source": [],
      "metadata": {
        "id": "kkGXecxxKtON"
      },
      "execution_count": null,
      "outputs": []
    }
  ]
}